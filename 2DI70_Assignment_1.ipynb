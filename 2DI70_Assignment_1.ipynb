{
 "cells": [
  {
   "cell_type": "markdown",
   "metadata": {},
   "source": [
    "# 2DI70 Statistical Learning Theory \n",
    "## Assignment 1\n",
    "\n",
    "### Group x\n",
    "Name1 ID1\n",
    "\n",
    "Name2 ID2\n",
    "\n",
    "Name3 ID3"
   ]
  },
  {
   "cell_type": "code",
   "execution_count": 21,
   "metadata": {},
   "outputs": [],
   "source": [
    "# Imports here\n",
    "import pandas as pd\n",
    "import matplotlib.pyplot as plt\n",
    "from math import *\n",
    "import numpy as np\n",
    "import operator\n"
   ]
  },
  {
   "cell_type": "markdown",
   "metadata": {},
   "source": [
    "#### Load MNIST data from csv files"
   ]
  },
  {
   "cell_type": "code",
   "execution_count": 22,
   "metadata": {},
   "outputs": [],
   "source": [
    "train_small = pd.read_csv(\"MNIST_train_small.csv\").values\n",
    "test_small  = pd.read_csv(\"MNIST_test_small.csv\").values"
   ]
  },
  {
   "cell_type": "code",
   "execution_count": 23,
   "metadata": {},
   "outputs": [],
   "source": [
    "## Normalizing the data is probably not necessary for this specific dataset\n",
    "X_train_s = train_small[:, 1:]/255.0\n",
    "y_train_s = train_small[:,0]\n",
    "\n",
    "X_test_s = test_small[:, 1:]/255.0\n",
    "y_test_s = test_small[:,0]"
   ]
  },
  {
   "cell_type": "markdown",
   "metadata": {},
   "source": [
    "#### Define functions"
   ]
  },
  {
   "cell_type": "code",
   "execution_count": 24,
   "metadata": {},
   "outputs": [],
   "source": [
    "## Render chosen data point as image\n",
    "def show_img(data, index):\n",
    "    plt.imshow(data[index].reshape(28,28), cmap = \"Greys\")\n",
    "    plt.show()"
   ]
  },
  {
   "cell_type": "code",
   "execution_count": 25,
   "metadata": {},
   "outputs": [
    {
     "name": "stdout",
     "output_type": "stream",
     "text": [
      "8.617445178210408\n"
     ]
    }
   ],
   "source": [
    "## Compute the nth root of given value\n",
    "def n_root(val, p):   \n",
    "    return val**(1 / float(p))\n",
    "  \n",
    "## Compute Minkowski distance for two given vectors\n",
    "## Use p = 2 for Euclidian distance\n",
    "def minkowski_dist(x1, x2, p):    \n",
    "    p_sum = sum(pow(abs(a-b), p) for a, b in zip(x1, x2))\n",
    "    return n_root(p_sum, p) \n",
    "  \n",
    "v1 = X_train_s[0]\n",
    "v2 = X_train_s[1]\n",
    "print(minkowski_dist(v1, v2, 2)) "
   ]
  },
  {
   "cell_type": "code",
   "execution_count": 26,
   "metadata": {},
   "outputs": [],
   "source": [
    "## Compute p-minkowski distance from point to every datapoint in collection\n",
    "## The list of labels should share length and indices with collection\n",
    "def compute_dists(point, collection, labels, p):\n",
    "    vals = []\n",
    "    for i in range(len(collection)):\n",
    "        d = minkowski_dist(point, collection[i], p)\n",
    "        vals.append([i, d, labels[i]])\n",
    "    \n",
    "    return vals"
   ]
  },
  {
   "cell_type": "markdown",
   "metadata": {},
   "source": [
    "#### Do KNN magic"
   ]
  },
  {
   "cell_type": "code",
   "execution_count": 27,
   "metadata": {
    "scrolled": true
   },
   "outputs": [
    {
     "data": {
      "image/png": "[encoded data removed]",
      "text/plain": [
       "<Figure size 432x288 with 1 Axes>"
      ]
     },
     "metadata": {},
     "output_type": "display_data"
    }
   ],
   "source": [
    "## Compute knn for example data\n",
    "show_img(X_train_s, 0)\n",
    "dists1 = compute_dists(X_train_s[0], X_train_s, y_train_s, 2)"
   ]
  },
  {
   "cell_type": "code",
   "execution_count": 28,
   "metadata": {},
   "outputs": [
    {
     "data": {
      "text/plain": [
       "[[0, 0.0, 3],\n",
       " [738, 5.260808796066775, 3],\n",
       " [163, 5.314273902674663, 3],\n",
       " [1273, 5.70711529028132, 3],\n",
       " [610, 5.733737010010271, 3],\n",
       " [1120, 5.750525442785872, 3],\n",
       " [2373, 5.8194902477416495, 3],\n",
       " [1504, 5.839323666682236, 3],\n",
       " [1790, 5.952746128195252, 3],\n",
       " [1597, 5.990987720867725, 3]]"
      ]
     },
     "execution_count": 28,
     "metadata": {},
     "output_type": "execute_result"
    }
   ],
   "source": [
    "## Since the point we selected is in the training set, it shows up in the list with a distance of 0\n",
    "## In this case, we can confidently say it is a 3\n",
    "dists1_sorted = sorted(dists1, key = lambda x: float(x[1]))\n",
    "dists1_sorted[0:10]"
   ]
  },
  {
   "cell_type": "code",
   "execution_count": 59,
   "metadata": {},
   "outputs": [
    {
     "name": "stdout",
     "output_type": "stream",
     "text": [
      "2 2 0\n",
      "1 1 0\n",
      "3 3 0\n",
      "9 9 0\n",
      "1 1 0\n",
      "4 4 0\n",
      "2 2 0\n",
      "6 6 0\n",
      "3 3 0\n",
      "7 7 0\n",
      "4 4 0\n",
      "9 9 0\n",
      "0 0 0\n",
      "6 6 0\n",
      "7 7 0\n",
      "6 6 0\n",
      "7 7 0\n",
      "9 9 0\n",
      "9 9 0\n",
      "0 2 1\n",
      "1 1 1\n",
      "3 3 1\n",
      "7 7 1\n",
      "0 0 1\n",
      "1 1 1\n",
      "1 7 2\n",
      "1 1 2\n",
      "5 5 2\n",
      "2 2 2\n",
      "1 8 3\n",
      "2 2 3\n",
      "1 4 4\n",
      "0 0 4\n",
      "2 2 4\n",
      "8 8 4\n",
      "1 7 5\n",
      "1 8 6\n",
      "6 6 6\n",
      "1 1 6\n",
      "3 3 6\n",
      "0.15\n"
     ]
    }
   ],
   "source": [
    "#Predefine top k value, length range r of test data to select\n",
    "k = 20\n",
    "r = 40 #len(X_test_s)\n",
    "error = 0\n",
    "percent_error = error/r\n",
    "#for each x in test set, compute the distance with all x in training set, then sort in distance for top 20 nearest neighbors\n",
    "for i in range(r):\n",
    "    dists = compute_dists(X_test_s[i], X_train_s, y_train_s, 2)\n",
    "    dists_sorted = sorted(dists, key = lambda x: float(x[1]))\n",
    "    list = dists_sorted[0:k] #get list top 20 nearest neighbors with its [index,distance,label] \n",
    "     \n",
    "#count frequency of labels of the top 20 nearest neighbors\n",
    "    pred_class = {}\n",
    "    for j in range(k):\n",
    "        labels = list[j][-1]\n",
    "        if labels in pred_class:\n",
    "            pred_class[labels] += 1\n",
    "        else:\n",
    "            pred_class[labels] = 1\n",
    "        #sort the most frequency labels at the beginning, return the prediction as the most frequency label at first position\n",
    "    sortedVotes = sorted(pred_class.items(), key=operator.itemgetter(1), reverse=True) \n",
    "    if sortedVotes[0][0] != y_test_s[i]:\n",
    "        error = error + 1\n",
    "        #percent_error += percent_error \n",
    "    print(sortedVotes[0][0],y_test_s[i],error)\n",
    "print(\"total percentage of error\" + str(error/r))\n"
   ]
  },
  {
   "cell_type": "code",
   "execution_count": null,
   "metadata": {},
   "outputs": [],
   "source": []
  },
  {
   "cell_type": "code",
   "execution_count": null,
   "metadata": {},
   "outputs": [],
   "source": []
  }
 ],
 "metadata": {
  "kernelspec": {
   "display_name": "Python 3",
   "language": "python",
   "name": "python3"
  },
  "language_info": {
   "codemirror_mode": {
    "name": "ipython",
    "version": 3
   },
   "file_extension": ".py",
   "mimetype": "text/x-python",
   "name": "python",
   "nbconvert_exporter": "python",
   "pygments_lexer": "ipython3",
   "version": "3.6.5"
  }
 },
 "nbformat": 4,
 "nbformat_minor": 2
}
