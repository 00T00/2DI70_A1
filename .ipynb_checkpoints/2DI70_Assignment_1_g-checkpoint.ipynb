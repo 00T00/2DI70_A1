{
 "cells": [
  {
   "cell_type": "markdown",
   "metadata": {},
   "source": [
    "# 2DI70 Statistical Learning Theory \n",
    "## Assignment 1\n",
    "\n",
    "### Group x\n",
    "Name1 ID1\n",
    "\n",
    "Name2 ID2\n",
    "\n",
    "Name3 ID3"
   ]
  },
  {
   "cell_type": "code",
   "execution_count": 35,
   "metadata": {},
   "outputs": [],
   "source": [
    "# Imports here\n",
    "import pandas as pd\n",
    "import matplotlib.pyplot as plt\n",
    "from math import *\n",
    "import numpy as np\n",
    "import operator\n",
    "from sklearn.decomposition import PCA\n",
    "from sklearn.preprocessing import MinMaxScaler\n"
   ]
  },
  {
   "cell_type": "markdown",
   "metadata": {},
   "source": [
    "#### Load MNIST data from csv files"
   ]
  },
  {
   "cell_type": "code",
   "execution_count": 36,
   "metadata": {},
   "outputs": [],
   "source": [
    "train_small = pd.read_csv(\"MNIST_train_small.csv\").values\n",
    "test_small  = pd.read_csv(\"MNIST_test_small.csv\").values"
   ]
  },
  {
   "cell_type": "code",
   "execution_count": 37,
   "metadata": {},
   "outputs": [],
   "source": [
    "## Normalizing the data is probably not necessary for this specific dataset\n",
    "X_train_s = train_small[:, 1:]/255.0\n",
    "y_train_s = train_small[:,0]\n",
    "\n",
    "X_test_s = test_small[:, 1:]/255.0\n",
    "y_test_s = test_small[:,0]"
   ]
  },
  {
   "cell_type": "markdown",
   "metadata": {},
   "source": [
    "#### Define functions"
   ]
  },
  {
   "cell_type": "code",
   "execution_count": 38,
   "metadata": {},
   "outputs": [
    {
     "data": {
      "image/png": "[encoded data removed]",
      "text/plain": [
       "<Figure size 432x288 with 1 Axes>"
      ]
     },
     "metadata": {},
     "output_type": "display_data"
    }
   ],
   "source": [
    "#Fitting the PCA algorithm with training dataset\n",
    "pca = PCA().fit(X_train_s)\n",
    "#Plotting the Cumulative Summation of the Explained Variance\n",
    "plt.figure()\n",
    "plt.plot(np.cumsum(pca.explained_variance_ratio_))\n",
    "plt.xlabel('Number of Components')\n",
    "plt.ylabel('Variance (%)') #for each component\n",
    "plt.title('Small Training Dataset Explained Variance')\n",
    "plt.show()"
   ]
  },
  {
   "cell_type": "code",
   "execution_count": 39,
   "metadata": {},
   "outputs": [],
   "source": [
    "#The above plot tells us that selecting 200-300 components we can preserve something around 95% or 99% of the total variance\n",
    "#of the data. It makes sense, we’ll not use 100% of our variance, because it denotes all components,\n",
    "#and we want only the principal ones.\n",
    "# With this information in our hands, we can implement the PCA for 200 best components by using this snippet of code:\n",
    "pca = PCA(n_components=300)\n",
    "PCA_X_train_s = pca.fit_transform(X_train_s)"
   ]
  },
  {
   "cell_type": "code",
   "execution_count": 40,
   "metadata": {},
   "outputs": [],
   "source": [
    "## Render chosen data point as image\n",
    "def show_img(data, index):\n",
    "    plt.imshow(data[index].reshape(28,28), cmap = \"Greys\")\n",
    "    plt.show()"
   ]
  },
  {
   "cell_type": "code",
   "execution_count": 41,
   "metadata": {},
   "outputs": [
    {
     "name": "stdout",
     "output_type": "stream",
     "text": [
      "8.617445178210408\n"
     ]
    }
   ],
   "source": [
    "## Compute the nth root of given value\n",
    "def n_root(val, p):   \n",
    "    return val**(1 / float(p))\n",
    "  \n",
    "## Compute Minkowski distance for two given vectors\n",
    "## Use p = 2 for Euclidian distance\n",
    "def minkowski_dist(x1, x2, p):    \n",
    "    p_sum = sum(pow(abs(a-b), p) for a, b in zip(x1, x2))\n",
    "    return n_root(p_sum, p) \n",
    "  \n",
    "v1 = X_train_s[0]\n",
    "v2 = X_train_s[1]\n",
    "print(minkowski_dist(v1, v2, 2)) "
   ]
  },
  {
   "cell_type": "code",
   "execution_count": 42,
   "metadata": {},
   "outputs": [],
   "source": [
    "## Compute p-minkowski distance from point to every datapoint in collection\n",
    "## The list of labels should share length and indices with collection\n",
    "def compute_dists(point, collection, labels, p):\n",
    "    vals = []\n",
    "    for i in range(len(collection)):\n",
    "        d = minkowski_dist(point, collection[i], p)\n",
    "        vals.append([i, d, labels[i]])\n",
    "    \n",
    "    return vals"
   ]
  },
  {
   "cell_type": "markdown",
   "metadata": {},
   "source": [
    "#### Do KNN magic"
   ]
  },
  {
   "cell_type": "code",
   "execution_count": 43,
   "metadata": {
    "scrolled": true
   },
   "outputs": [
    {
     "data": {
      "image/png": "[encoded data removed]",
      "text/plain": [
       "<Figure size 432x288 with 1 Axes>"
      ]
     },
     "metadata": {},
     "output_type": "display_data"
    }
   ],
   "source": [
    "## Compute knn for example data\n",
    "show_img(X_train_s, 0)\n",
    "dists1 = compute_dists(X_train_s[0], X_train_s, y_train_s, 2)"
   ]
  },
  {
   "cell_type": "code",
   "execution_count": 44,
   "metadata": {
    "scrolled": true
   },
   "outputs": [
    {
     "data": {
      "text/plain": [
       "[[0, 0.0, 3],\n",
       " [738, 5.260808796066775, 3],\n",
       " [163, 5.314273902674663, 3],\n",
       " [1273, 5.70711529028132, 3],\n",
       " [610, 5.733737010010271, 3],\n",
       " [1120, 5.750525442785872, 3],\n",
       " [2373, 5.8194902477416495, 3],\n",
       " [1504, 5.839323666682236, 3],\n",
       " [1790, 5.952746128195252, 3],\n",
       " [1597, 5.990987720867725, 3]]"
      ]
     },
     "execution_count": 44,
     "metadata": {},
     "output_type": "execute_result"
    }
   ],
   "source": [
    "## Since the point we selected is in the training set, it shows up in the list with a distance of 0\n",
    "## In this case, we can confidently say it is a 3\n",
    "dists1_sorted = sorted(dists1, key = lambda x: float(x[1]))\n",
    "dists1_sorted[0:10]"
   ]
  },
  {
   "cell_type": "code",
   "execution_count": 45,
   "metadata": {},
   "outputs": [
    {
     "name": "stdout",
     "output_type": "stream",
     "text": [
      "9 3 1\n",
      "3 9 2\n",
      "3 3 2\n",
      "7 1 3\n",
      "6 3 4\n",
      "8 6 5\n",
      "2 8 6\n",
      "0 4 7\n",
      "9 0 8\n",
      "9 1 9\n",
      "0 9 10\n",
      "4 5 11\n",
      "7 4 12\n",
      "0 7 13\n",
      "3 4 14\n",
      "9 8 15\n",
      "7 4 16\n",
      "1 2 17\n",
      "0 6 18\n",
      "9 9 18\n",
      "7 2 19\n",
      "9 8 20\n",
      "0 4 21\n",
      "7 9 22\n",
      "9 4 23\n",
      "5 9 24\n"
     ]
    },
    {
     "ename": "KeyboardInterrupt",
     "evalue": "",
     "output_type": "error",
     "traceback": [
      "\u001b[1;31m---------------------------------------------------------------------------\u001b[0m",
      "\u001b[1;31mKeyboardInterrupt\u001b[0m                         Traceback (most recent call last)",
      "\u001b[1;32m<ipython-input-45-2f8fe2c4d431>\u001b[0m in \u001b[0;36m<module>\u001b[1;34m()\u001b[0m\n\u001b[0;32m     10\u001b[0m \u001b[1;31m# then sort in distance for top 20 nearest neighbors\u001b[0m\u001b[1;33m\u001b[0m\u001b[1;33m\u001b[0m\u001b[0m\n\u001b[0;32m     11\u001b[0m \u001b[1;32mfor\u001b[0m \u001b[0mi\u001b[0m \u001b[1;32min\u001b[0m \u001b[0mrange\u001b[0m\u001b[1;33m(\u001b[0m\u001b[0mr\u001b[0m\u001b[1;33m)\u001b[0m\u001b[1;33m:\u001b[0m\u001b[1;33m\u001b[0m\u001b[0m\n\u001b[1;32m---> 12\u001b[1;33m     \u001b[0mdists\u001b[0m \u001b[1;33m=\u001b[0m \u001b[0mcompute_dists\u001b[0m\u001b[1;33m(\u001b[0m\u001b[0mPCA_X_train_s\u001b[0m\u001b[1;33m[\u001b[0m\u001b[0mi\u001b[0m\u001b[1;33m]\u001b[0m\u001b[1;33m,\u001b[0m \u001b[0mPCA_X_train_s\u001b[0m\u001b[1;33m[\u001b[0m\u001b[0mnp\u001b[0m\u001b[1;33m.\u001b[0m\u001b[0marange\u001b[0m\u001b[1;33m(\u001b[0m\u001b[0mlen\u001b[0m\u001b[1;33m(\u001b[0m\u001b[0mX_train_s\u001b[0m\u001b[1;33m)\u001b[0m\u001b[1;33m)\u001b[0m\u001b[1;33m!=\u001b[0m\u001b[0mi\u001b[0m\u001b[1;33m]\u001b[0m\u001b[1;33m,\u001b[0m \u001b[0my_train_s\u001b[0m\u001b[1;33m,\u001b[0m \u001b[0mp\u001b[0m\u001b[1;33m)\u001b[0m\u001b[1;33m\u001b[0m\u001b[0m\n\u001b[0m\u001b[0;32m     13\u001b[0m     \u001b[0mdists_sorted\u001b[0m \u001b[1;33m=\u001b[0m \u001b[0msorted\u001b[0m\u001b[1;33m(\u001b[0m\u001b[0mdists\u001b[0m\u001b[1;33m,\u001b[0m \u001b[0mkey\u001b[0m \u001b[1;33m=\u001b[0m \u001b[1;32mlambda\u001b[0m \u001b[0mx\u001b[0m\u001b[1;33m:\u001b[0m \u001b[0mfloat\u001b[0m\u001b[1;33m(\u001b[0m\u001b[0mx\u001b[0m\u001b[1;33m[\u001b[0m\u001b[1;36m1\u001b[0m\u001b[1;33m]\u001b[0m\u001b[1;33m)\u001b[0m\u001b[1;33m)\u001b[0m\u001b[1;33m\u001b[0m\u001b[0m\n\u001b[0;32m     14\u001b[0m     \u001b[0mlist\u001b[0m \u001b[1;33m=\u001b[0m \u001b[0mdists_sorted\u001b[0m\u001b[1;33m[\u001b[0m\u001b[1;36m0\u001b[0m\u001b[1;33m:\u001b[0m\u001b[0mk\u001b[0m\u001b[1;33m]\u001b[0m \u001b[1;31m#get list top 20 nearest neighbors with its [index,distance,label]\u001b[0m\u001b[1;33m\u001b[0m\u001b[0m\n",
      "\u001b[1;32m<ipython-input-42-3be5fa0eb213>\u001b[0m in \u001b[0;36mcompute_dists\u001b[1;34m(point, collection, labels, p)\u001b[0m\n\u001b[0;32m      4\u001b[0m     \u001b[0mvals\u001b[0m \u001b[1;33m=\u001b[0m \u001b[1;33m[\u001b[0m\u001b[1;33m]\u001b[0m\u001b[1;33m\u001b[0m\u001b[0m\n\u001b[0;32m      5\u001b[0m     \u001b[1;32mfor\u001b[0m \u001b[0mi\u001b[0m \u001b[1;32min\u001b[0m \u001b[0mrange\u001b[0m\u001b[1;33m(\u001b[0m\u001b[0mlen\u001b[0m\u001b[1;33m(\u001b[0m\u001b[0mcollection\u001b[0m\u001b[1;33m)\u001b[0m\u001b[1;33m)\u001b[0m\u001b[1;33m:\u001b[0m\u001b[1;33m\u001b[0m\u001b[0m\n\u001b[1;32m----> 6\u001b[1;33m         \u001b[0md\u001b[0m \u001b[1;33m=\u001b[0m \u001b[0mminkowski_dist\u001b[0m\u001b[1;33m(\u001b[0m\u001b[0mpoint\u001b[0m\u001b[1;33m,\u001b[0m \u001b[0mcollection\u001b[0m\u001b[1;33m[\u001b[0m\u001b[0mi\u001b[0m\u001b[1;33m]\u001b[0m\u001b[1;33m,\u001b[0m \u001b[0mp\u001b[0m\u001b[1;33m)\u001b[0m\u001b[1;33m\u001b[0m\u001b[0m\n\u001b[0m\u001b[0;32m      7\u001b[0m         \u001b[0mvals\u001b[0m\u001b[1;33m.\u001b[0m\u001b[0mappend\u001b[0m\u001b[1;33m(\u001b[0m\u001b[1;33m[\u001b[0m\u001b[0mi\u001b[0m\u001b[1;33m,\u001b[0m \u001b[0md\u001b[0m\u001b[1;33m,\u001b[0m \u001b[0mlabels\u001b[0m\u001b[1;33m[\u001b[0m\u001b[0mi\u001b[0m\u001b[1;33m]\u001b[0m\u001b[1;33m]\u001b[0m\u001b[1;33m)\u001b[0m\u001b[1;33m\u001b[0m\u001b[0m\n\u001b[0;32m      8\u001b[0m \u001b[1;33m\u001b[0m\u001b[0m\n",
      "\u001b[1;32m<ipython-input-41-a953a6c01cfa>\u001b[0m in \u001b[0;36mminkowski_dist\u001b[1;34m(x1, x2, p)\u001b[0m\n\u001b[0;32m      6\u001b[0m \u001b[1;31m## Use p = 2 for Euclidian distance\u001b[0m\u001b[1;33m\u001b[0m\u001b[1;33m\u001b[0m\u001b[0m\n\u001b[0;32m      7\u001b[0m \u001b[1;32mdef\u001b[0m \u001b[0mminkowski_dist\u001b[0m\u001b[1;33m(\u001b[0m\u001b[0mx1\u001b[0m\u001b[1;33m,\u001b[0m \u001b[0mx2\u001b[0m\u001b[1;33m,\u001b[0m \u001b[0mp\u001b[0m\u001b[1;33m)\u001b[0m\u001b[1;33m:\u001b[0m\u001b[1;33m\u001b[0m\u001b[0m\n\u001b[1;32m----> 8\u001b[1;33m     \u001b[0mp_sum\u001b[0m \u001b[1;33m=\u001b[0m \u001b[0msum\u001b[0m\u001b[1;33m(\u001b[0m\u001b[0mpow\u001b[0m\u001b[1;33m(\u001b[0m\u001b[0mabs\u001b[0m\u001b[1;33m(\u001b[0m\u001b[0ma\u001b[0m\u001b[1;33m-\u001b[0m\u001b[0mb\u001b[0m\u001b[1;33m)\u001b[0m\u001b[1;33m,\u001b[0m \u001b[0mp\u001b[0m\u001b[1;33m)\u001b[0m \u001b[1;32mfor\u001b[0m \u001b[0ma\u001b[0m\u001b[1;33m,\u001b[0m \u001b[0mb\u001b[0m \u001b[1;32min\u001b[0m \u001b[0mzip\u001b[0m\u001b[1;33m(\u001b[0m\u001b[0mx1\u001b[0m\u001b[1;33m,\u001b[0m \u001b[0mx2\u001b[0m\u001b[1;33m)\u001b[0m\u001b[1;33m)\u001b[0m\u001b[1;33m\u001b[0m\u001b[0m\n\u001b[0m\u001b[0;32m      9\u001b[0m     \u001b[1;32mreturn\u001b[0m \u001b[0mn_root\u001b[0m\u001b[1;33m(\u001b[0m\u001b[0mp_sum\u001b[0m\u001b[1;33m,\u001b[0m \u001b[0mp\u001b[0m\u001b[1;33m)\u001b[0m\u001b[1;33m\u001b[0m\u001b[0m\n\u001b[0;32m     10\u001b[0m \u001b[1;33m\u001b[0m\u001b[0m\n",
      "\u001b[1;32m<ipython-input-41-a953a6c01cfa>\u001b[0m in \u001b[0;36m<genexpr>\u001b[1;34m(.0)\u001b[0m\n\u001b[0;32m      6\u001b[0m \u001b[1;31m## Use p = 2 for Euclidian distance\u001b[0m\u001b[1;33m\u001b[0m\u001b[1;33m\u001b[0m\u001b[0m\n\u001b[0;32m      7\u001b[0m \u001b[1;32mdef\u001b[0m \u001b[0mminkowski_dist\u001b[0m\u001b[1;33m(\u001b[0m\u001b[0mx1\u001b[0m\u001b[1;33m,\u001b[0m \u001b[0mx2\u001b[0m\u001b[1;33m,\u001b[0m \u001b[0mp\u001b[0m\u001b[1;33m)\u001b[0m\u001b[1;33m:\u001b[0m\u001b[1;33m\u001b[0m\u001b[0m\n\u001b[1;32m----> 8\u001b[1;33m     \u001b[0mp_sum\u001b[0m \u001b[1;33m=\u001b[0m \u001b[0msum\u001b[0m\u001b[1;33m(\u001b[0m\u001b[0mpow\u001b[0m\u001b[1;33m(\u001b[0m\u001b[0mabs\u001b[0m\u001b[1;33m(\u001b[0m\u001b[0ma\u001b[0m\u001b[1;33m-\u001b[0m\u001b[0mb\u001b[0m\u001b[1;33m)\u001b[0m\u001b[1;33m,\u001b[0m \u001b[0mp\u001b[0m\u001b[1;33m)\u001b[0m \u001b[1;32mfor\u001b[0m \u001b[0ma\u001b[0m\u001b[1;33m,\u001b[0m \u001b[0mb\u001b[0m \u001b[1;32min\u001b[0m \u001b[0mzip\u001b[0m\u001b[1;33m(\u001b[0m\u001b[0mx1\u001b[0m\u001b[1;33m,\u001b[0m \u001b[0mx2\u001b[0m\u001b[1;33m)\u001b[0m\u001b[1;33m)\u001b[0m\u001b[1;33m\u001b[0m\u001b[0m\n\u001b[0m\u001b[0;32m      9\u001b[0m     \u001b[1;32mreturn\u001b[0m \u001b[0mn_root\u001b[0m\u001b[1;33m(\u001b[0m\u001b[0mp_sum\u001b[0m\u001b[1;33m,\u001b[0m \u001b[0mp\u001b[0m\u001b[1;33m)\u001b[0m\u001b[1;33m\u001b[0m\u001b[0m\n\u001b[0;32m     10\u001b[0m \u001b[1;33m\u001b[0m\u001b[0m\n",
      "\u001b[1;31mKeyboardInterrupt\u001b[0m: "
     ]
    }
   ],
   "source": [
    "#1g. Using new dataset of PCA_X_train_s to reduce 784 dimensions on original X_train_s to 200 dimensions\n",
    "#Apply the new dataset using LOOCV, k = 20\n",
    "#Predefine number of top k-nn, power p for Euclidean or Minkowski distance, length of training folds\n",
    "k = 20\n",
    "p = 2 \n",
    "r = len(X_train_s)\n",
    "error = 0\n",
    "\n",
    "#for each point in train set of n values, compute the distance with all n-1 data points in training set (excluding the point selected)\n",
    "# then sort in distance for top 20 nearest neighbors\n",
    "for i in range(r):\n",
    "    dists = compute_dists(PCA_X_train_s[i], PCA_X_train_s[np.arange(len(X_train_s))!=i], y_train_s, p)\n",
    "    dists_sorted = sorted(dists, key = lambda x: float(x[1]))\n",
    "    list = dists_sorted[0:k] #get list top 20 nearest neighbors with its [index,distance,label] \n",
    "     \n",
    "#count frequency of labels of the top 20 nearest neighbors:\n",
    "    pred_class = {}\n",
    "    for j in range(k):\n",
    "        labels = list[j][-1]\n",
    "        if labels in pred_class:\n",
    "            pred_class[labels] += 1\n",
    "        else:\n",
    "            pred_class[labels] = 1\n",
    "        #sort the most frequency labels at the beginning, return the prediction as the most frequency label at first position\n",
    "    sortedVotes = sorted(pred_class.items(), key=operator.itemgetter(1), reverse=True) \n",
    "    if sortedVotes[0][0] != y_train_s[i]:\n",
    "        error = error + 1\n",
    "    print(sortedVotes[0][0],y_train_s[i],error)\n",
    "print(\"total percentage of error\" + str(error/r))\n",
    "\n"
   ]
  },
  {
   "cell_type": "code",
   "execution_count": null,
   "metadata": {},
   "outputs": [
    {
     "name": "stdout",
     "output_type": "stream",
     "text": [
      "3 3 0\n",
      "9 9 0\n",
      "3 3 0\n",
      "1 1 0\n",
      "3 3 0\n",
      "6 6 0\n",
      "8 8 0\n",
      "4 4 0\n",
      "0 0 0\n",
      "1 1 0\n",
      "4 9 1\n",
      "5 5 1\n",
      "4 4 1\n",
      "7 7 1\n",
      "4 4 1\n",
      "8 8 1\n",
      "4 4 1\n",
      "2 2 1\n",
      "6 6 1\n",
      "9 9 1\n",
      "2 2 1\n",
      "8 8 1\n",
      "4 4 1\n",
      "9 9 1\n",
      "4 4 1\n",
      "9 9 1\n",
      "9 9 1\n",
      "4 4 1\n",
      "7 5 2\n",
      "8 8 2\n",
      "1 1 2\n",
      "1 1 2\n",
      "1 1 2\n",
      "6 6 2\n",
      "1 1 2\n",
      "0 0 2\n",
      "2 2 2\n",
      "7 7 2\n",
      "5 5 2\n",
      "6 6 2\n",
      "9 9 2\n",
      "7 2 3\n",
      "4 4 3\n",
      "7 7 3\n",
      "6 6 3\n",
      "5 5 3\n",
      "7 7 3\n",
      "5 5 3\n",
      "6 6 3\n",
      "9 9 3\n",
      "8 8 3\n",
      "9 9 3\n",
      "2 2 3\n",
      "6 6 3\n",
      "0 0 3\n",
      "3 3 3\n",
      "9 9 3\n",
      "1 5 4\n",
      "1 1 4\n",
      "7 7 4\n",
      "2 2 4\n",
      "0 0 4\n"
     ]
    }
   ],
   "source": [
    "#1g. Using new dataset of PCA_X_train_s to reduce 784 dimensions on original X_train_s to 200 dimensions\n",
    "#Apply the new dataset using pure k-nn, k = 20\n",
    "#Predefine number of top k-nn, power p for Euclidean or Minkowski distance, length of training folds\n",
    "k = 20\n",
    "p = 2 \n",
    "r = len(X_train_s)\n",
    "error = 0\n",
    "\n",
    "#for each point in train set of n values, compute the distance with all n-1 data points in training set (excluding the point selected)\n",
    "# then sort in distance for top 20 nearest neighbors\n",
    "for i in range(r):\n",
    "    dists = compute_dists(PCA_X_train_s[i], PCA_X_train_s, y_train_s, p)\n",
    "    dists_sorted = sorted(dists, key = lambda x: float(x[1]))\n",
    "    list = dists_sorted[0:k] #get list top 20 nearest neighbors with its [index,distance,label] \n",
    "     \n",
    "#count frequency of labels of the top 20 nearest neighbors:\n",
    "    pred_class = {}\n",
    "    for j in range(k):\n",
    "        labels = list[j][-1]\n",
    "        if labels in pred_class:\n",
    "            pred_class[labels] += 1\n",
    "        else:\n",
    "            pred_class[labels] = 1\n",
    "        #sort the most frequency labels at the beginning, return the prediction as the most frequency label at first position\n",
    "    sortedVotes = sorted(pred_class.items(), key=operator.itemgetter(1), reverse=True) \n",
    "    if sortedVotes[0][0] != y_train_s[i]:\n",
    "        error = error + 1\n",
    "    print(sortedVotes[0][0],y_train_s[i],error)\n",
    "print(\"total percentage of error\" + str(error/r))"
   ]
  },
  {
   "cell_type": "code",
   "execution_count": null,
   "metadata": {},
   "outputs": [],
   "source": []
  }
 ],
 "metadata": {
  "kernelspec": {
   "display_name": "Python 3",
   "language": "python",
   "name": "python3"
  },
  "language_info": {
   "codemirror_mode": {
    "name": "ipython",
    "version": 3
   },
   "file_extension": ".py",
   "mimetype": "text/x-python",
   "name": "python",
   "nbconvert_exporter": "python",
   "pygments_lexer": "ipython3",
   "version": "3.6.5"
  }
 },
 "nbformat": 4,
 "nbformat_minor": 2
}
