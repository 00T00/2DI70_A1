{
 "cells": [
  {
   "cell_type": "markdown",
   "metadata": {},
   "source": [
    "# 2DI70 Statistical Learning Theory \n",
    "## Assignment 1\n",
    "\n",
    "### Group x\n",
    "Name1 ID1\n",
    "\n",
    "Name2 ID2\n",
    "\n",
    "Name3 ID3"
   ]
  },
  {
   "cell_type": "code",
   "execution_count": 1,
   "metadata": {},
   "outputs": [],
   "source": [
    "# Imports here\n",
    "import pandas as pd\n",
    "import matplotlib.pyplot as plt\n",
    "from math import *\n",
    "import numpy as np\n",
    "import operator\n"
   ]
  },
  {
   "cell_type": "markdown",
   "metadata": {},
   "source": [
    "#### Load MNIST data from csv files"
   ]
  },
  {
   "cell_type": "code",
   "execution_count": 2,
   "metadata": {},
   "outputs": [],
   "source": [
    "train_small = pd.read_csv(\"MNIST_train_small.csv\").values\n",
    "test_small  = pd.read_csv(\"MNIST_test_small.csv\").values"
   ]
  },
  {
   "cell_type": "code",
   "execution_count": 3,
   "metadata": {},
   "outputs": [],
   "source": [
    "## Normalizing the data is probably not necessary for this specific dataset\n",
    "X_train_s = train_small[:, 1:]/255.0\n",
    "y_train_s = train_small[:,0]\n",
    "\n",
    "X_test_s = test_small[:, 1:]/255.0\n",
    "y_test_s = test_small[:,0]"
   ]
  },
  {
   "cell_type": "markdown",
   "metadata": {},
   "source": [
    "#### Define functions"
   ]
  },
  {
   "cell_type": "code",
   "execution_count": 4,
   "metadata": {},
   "outputs": [],
   "source": [
    "## Render chosen data point as image\n",
    "def show_img(data, index):\n",
    "    plt.imshow(data[index].reshape(28,28), cmap = \"Greys\")\n",
    "    plt.show()"
   ]
  },
  {
   "cell_type": "code",
   "execution_count": 5,
   "metadata": {},
   "outputs": [
    {
     "name": "stdout",
     "output_type": "stream",
     "text": [
      "8.617445178210408\n"
     ]
    }
   ],
   "source": [
    "## Compute the nth root of given value\n",
    "def n_root(val, p):   \n",
    "    return val**(1 / float(p))\n",
    "  \n",
    "## Compute Minkowski distance for two given vectors\n",
    "## Use p = 2 for Euclidian distance\n",
    "def minkowski_dist(x1, x2, p):    \n",
    "    p_sum = sum(pow(abs(a-b), p) for a, b in zip(x1, x2))\n",
    "    return n_root(p_sum, p) \n",
    "  \n",
    "v1 = X_train_s[0]\n",
    "v2 = X_train_s[1]\n",
    "print(minkowski_dist(v1, v2, 2)) "
   ]
  },
  {
   "cell_type": "code",
   "execution_count": 6,
   "metadata": {},
   "outputs": [],
   "source": [
    "## Compute p-minkowski distance from point to every datapoint in collection\n",
    "## The list of labels should share length and indices with collection\n",
    "def compute_dists(point, collection, labels, p):\n",
    "    vals = []\n",
    "    for i in range(len(collection)):\n",
    "        d = minkowski_dist(point, collection[i], p)\n",
    "        vals.append([i, d, labels[i]])\n",
    "    \n",
    "    return vals"
   ]
  },
  {
   "cell_type": "markdown",
   "metadata": {},
   "source": [
    "#### Do KNN magic"
   ]
  },
  {
   "cell_type": "code",
   "execution_count": 7,
   "metadata": {
    "scrolled": true
   },
   "outputs": [
    {
     "data": {
      "image/png": "[encoded data removed]",
      "text/plain": [
       "<Figure size 432x288 with 1 Axes>"
      ]
     },
     "metadata": {},
     "output_type": "display_data"
    }
   ],
   "source": [
    "## Compute knn for example data\n",
    "show_img(X_test_s, 0)\n",
    "dists1 = compute_dists(X_test_s[0], X_train_s, y_train_s, 2)"
   ]
  },
  {
   "cell_type": "code",
   "execution_count": 8,
   "metadata": {},
   "outputs": [
    {
     "data": {
      "text/plain": [
       "[[1135, 5.3865168364513, 2],\n",
       " [2930, 6.176237779614883, 2],\n",
       " [1839, 6.359115856708896, 2],\n",
       " [2931, 6.971545396350763, 2],\n",
       " [1673, 7.1679066012479415, 2],\n",
       " [1745, 7.241429992960301, 2],\n",
       " [674, 7.360805206442928, 2],\n",
       " [1959, 7.46974314606631, 2],\n",
       " [2869, 7.472301795139638, 2],\n",
       " [1058, 7.590140106469208, 2],\n",
       " [394, 7.816389685297066, 2],\n",
       " [20, 7.866137843152389, 2],\n",
       " [535, 7.8670723020162905, 2],\n",
       " [1936, 7.948569785196725, 2],\n",
       " [1146, 7.982502009483685, 2],\n",
       " [402, 8.022200070046882, 2],\n",
       " [2694, 8.041375128432373, 2],\n",
       " [1943, 8.087366085202186, 2],\n",
       " [629, 8.16194129232512, 2],\n",
       " [2707, 8.167651236462792, 2]]"
      ]
     },
     "execution_count": 8,
     "metadata": {},
     "output_type": "execute_result"
    }
   ],
   "source": [
    "## Since the point we selected is in the training set, it shows up in the list with a distance of 0\n",
    "## In this case, we can confidently say it is a 3\n",
    "dists1_sorted = sorted(dists1, key = lambda x: float(x[1]))\n",
    "dists1_sorted[0:20]"
   ]
  },
  {
   "cell_type": "code",
   "execution_count": 25,
   "metadata": {},
   "outputs": [],
   "source": [
    "import time"
   ]
  },
  {
   "cell_type": "code",
   "execution_count": 27,
   "metadata": {},
   "outputs": [
    {
     "name": "stdout",
     "output_type": "stream",
     "text": [
      "done 0\n",
      "1.6305036544799805\n",
      "done 50\n",
      "85.89391541481018\n",
      "done 100\n",
      "85.89846777915955\n",
      "done 150\n",
      "83.66302371025085\n",
      "done 200\n",
      "88.08206915855408\n",
      "done 250\n",
      "90.89964628219604\n",
      "done 300\n",
      "80.372243642807\n",
      "done 350\n",
      "82.01828598976135\n",
      "done 400\n",
      "81.8510012626648\n",
      "done 450\n",
      "81.62596487998962\n",
      "done 500\n",
      "85.4732096195221\n",
      "done 550\n",
      "81.96734285354614\n",
      "done 600\n",
      "81.35711979866028\n",
      "done 650\n",
      "82.25699758529663\n",
      "done 700\n",
      "82.2536997795105\n",
      "done 750\n",
      "81.71692442893982\n",
      "done 800\n",
      "82.69104170799255\n",
      "done 850\n",
      "82.68295407295227\n",
      "done 900\n",
      "81.62103819847107\n",
      "done 950\n",
      "81.71001982688904\n",
      "done 1000\n",
      "82.28503274917603\n",
      "done 1050\n",
      "82.31398415565491\n",
      "done 1100\n",
      "82.29399585723877\n",
      "done 1150\n",
      "82.21207451820374\n",
      "done 1200\n",
      "81.89699721336365\n",
      "done 1250\n",
      "82.45198607444763\n",
      "done 1300\n",
      "82.51900553703308\n",
      "done 1350\n",
      "81.55064082145691\n",
      "done 1400\n",
      "81.24995994567871\n",
      "done 1450\n",
      "85.08300161361694\n",
      "done 1500\n",
      "80.85600686073303\n",
      "done 1550\n",
      "81.54288339614868\n",
      "done 1600\n",
      "81.96965837478638\n",
      "done 1650\n",
      "81.33677649497986\n",
      "done 1700\n",
      "80.87193870544434\n",
      "done 1750\n",
      "81.3222873210907\n",
      "done 1800\n",
      "81.94121050834656\n",
      "done 1850\n",
      "80.90533471107483\n",
      "done 1900\n",
      "80.85598635673523\n",
      "done 1950\n",
      "80.4985249042511\n",
      "done 2000\n",
      "80.31462621688843\n",
      "done 2050\n",
      "81.1783242225647\n",
      "done 2100\n",
      "80.61781644821167\n",
      "done 2150\n",
      "80.43952178955078\n",
      "done 2200\n",
      "80.96989846229553\n",
      "done 2250\n",
      "80.89166760444641\n",
      "done 2300\n",
      "80.1538598537445\n",
      "done 2350\n",
      "80.92667293548584\n",
      "done 2400\n",
      "81.34535431861877\n",
      "done 2450\n",
      "86.36710667610168\n",
      "done 2500\n",
      "87.28415012359619\n",
      "done 2550\n",
      "84.58609366416931\n",
      "done 2600\n",
      "85.74152970314026\n",
      "done 2650\n",
      "84.38356399536133\n",
      "done 2700\n",
      "81.04447317123413\n",
      "done 2750\n",
      "82.15653157234192\n",
      "done 2800\n",
      "81.32916569709778\n",
      "done 2850\n",
      "81.85695171356201\n",
      "done 2900\n",
      "84.11437010765076\n",
      "done 2950\n",
      "81.54600548744202\n"
     ]
    }
   ],
   "source": [
    "#Predefine top k value, length range r of test data to select\n",
    "distsasd=[]\n",
    "k = 20\n",
    "r = len(X_train_s)\n",
    "#r=500\n",
    "error = 0\n",
    "ti=time.time()\n",
    "percent_error = error/r\n",
    "#for each x in test set, compute the distance with all x in training set, then sort in distance for top 20 nearest neighbors\n",
    "for i in range(r):\n",
    "    dists = compute_dists(X_train_s[i], X_train_s, y_train_s, 2)\n",
    "    dists_sorted = sorted(dists, key = lambda x: float(x[1]))\n",
    "    list2 = dists_sorted[1:k+1] #get list top 20 nearest neighbors with its [index,distance,label] \n",
    "    distsasd.append(list2)\n",
    "    if(i%50==0):\n",
    "        print(\"done\",i)\n",
    "        print(time.time()-ti)\n",
    "        ti=time.time()\n",
    "#count frequency of labels of the top 20 nearest neighbors\n",
    "\n",
    "    \n"
   ]
  },
  {
   "cell_type": "code",
   "execution_count": 78,
   "metadata": {},
   "outputs": [],
   "source": [
    "#Find average error for given k using 1/0-loss function\n",
    "def calcerror(k, y):\n",
    "    r=0\n",
    "    errors=0\n",
    "    for j in range(len(distsasd)):\n",
    "        pop=0\n",
    "        labels = np.zeros(10)\n",
    "        ks = distsasd[j][:k]\n",
    "        #print(ks)\n",
    "        #print(y_train_s[ks[0][2]])\n",
    "        for l in range(k):\n",
    "            pop+=1\n",
    "            labels[[ks[l][2]]] += 1\n",
    "        #print(labels)    \n",
    "        prediction = np.argmax(labels)\n",
    "        #print(prediction)\n",
    "        if (y[j] != prediction):\n",
    "            errors +=1\n",
    "        r += 1 \n",
    "    #print(pop)\n",
    "    #print(errors)    \n",
    "    return errors/r"
   ]
  },
  {
   "cell_type": "code",
   "execution_count": 79,
   "metadata": {},
   "outputs": [
    {
     "data": {
      "text/plain": [
       "4"
      ]
     },
     "execution_count": 79,
     "metadata": {},
     "output_type": "execute_result"
    }
   ],
   "source": [
    "distsasd[1][:5][0][2]"
   ]
  },
  {
   "cell_type": "code",
   "execution_count": 81,
   "metadata": {},
   "outputs": [
    {
     "name": "stdout",
     "output_type": "stream",
     "text": [
      "0.08069356452150717\n",
      "0.08869623207735912\n",
      "0.07869289763254418\n",
      "0.07902634211403801\n",
      "0.0800266755585195\n",
      "0.08302767589196398\n",
      "0.08336112037345782\n",
      "0.08936312104034679\n",
      "0.08769589863287762\n",
      "0.09003001000333445\n",
      "0.09203067689229744\n",
      "0.09436478826275425\n",
      "0.09503167722574192\n",
      "0.09436478826275425\n",
      "0.0960320106702234\n",
      "0.09836612204068022\n",
      "0.09736578859619874\n",
      "0.10036678892964321\n",
      "0.09903301100366789\n",
      "0.10103367789263087\n"
     ]
    }
   ],
   "source": [
    "for k in range(1,21):\n",
    "    print(calcerror(k, y_train_s))"
   ]
  },
  {
   "cell_type": "code",
   "execution_count": null,
   "metadata": {},
   "outputs": [],
   "source": []
  }
 ],
 "metadata": {
  "kernelspec": {
   "display_name": "Python 3",
   "language": "python",
   "name": "python3"
  },
  "language_info": {
   "codemirror_mode": {
    "name": "ipython",
    "version": 3
   },
   "file_extension": ".py",
   "mimetype": "text/x-python",
   "name": "python",
   "nbconvert_exporter": "python",
   "pygments_lexer": "ipython3",
   "version": "3.5.5"
  }
 },
 "nbformat": 4,
 "nbformat_minor": 2
}
