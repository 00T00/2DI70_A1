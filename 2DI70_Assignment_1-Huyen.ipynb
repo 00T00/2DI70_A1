{
 "cells": [
  {
   "cell_type": "markdown",
   "metadata": {},
   "source": [
    "# 2DI70 Statistical Learning Theory \n",
    "## Assignment 1\n",
    "\n",
    "### Group x\n",
    "Name1 ID1\n",
    "\n",
    "Name2 ID2\n",
    "\n",
    "Name3 ID3"
   ]
  },
  {
   "cell_type": "code",
   "execution_count": 96,
   "metadata": {},
   "outputs": [],
   "source": [
    "# Imports here\n",
    "import pandas as pd\n",
    "import matplotlib.pyplot as plt\n",
    "from math import *\n",
    "import numpy as np\n",
    "import operator\n"
   ]
  },
  {
   "cell_type": "markdown",
   "metadata": {},
   "source": [
    "#### Load MNIST data from csv files"
   ]
  },
  {
   "cell_type": "code",
   "execution_count": 97,
   "metadata": {},
   "outputs": [],
   "source": [
    "train_small = pd.read_csv(\"MNIST_train_small.csv\").values\n",
    "test_small  = pd.read_csv(\"MNIST_test_small.csv\").values"
   ]
  },
  {
   "cell_type": "code",
   "execution_count": 98,
   "metadata": {},
   "outputs": [],
   "source": [
    "## Normalizing the data is probably not necessary for this specific dataset\n",
    "X_train_s = train_small[:, 1:]/255.0\n",
    "y_train_s = train_small[:,0]\n",
    "\n",
    "X_test_s = test_small[:, 1:]/255.0\n",
    "y_test_s = test_small[:,0]"
   ]
  },
  {
   "cell_type": "markdown",
   "metadata": {},
   "source": [
    "#### Define functions"
   ]
  },
  {
   "cell_type": "code",
   "execution_count": 99,
   "metadata": {},
   "outputs": [],
   "source": [
    "## Render chosen data point as image\n",
    "def show_img(data, index):\n",
    "    plt.imshow(data[index].reshape(28,28), cmap = \"Greys\")\n",
    "    plt.show()"
   ]
  },
  {
   "cell_type": "code",
   "execution_count": 100,
   "metadata": {},
   "outputs": [
    {
     "name": "stdout",
     "output_type": "stream",
     "text": [
      "8.617445178210408\n"
     ]
    }
   ],
   "source": [
    "## Compute the nth root of given value\n",
    "def n_root(val, p):   \n",
    "    return val**(1 / float(p))\n",
    "  \n",
    "## Compute Minkowski distance for two given vectors\n",
    "## Use p = 2 for Euclidian distance\n",
    "def minkowski_dist(x1, x2, p):    \n",
    "    p_sum = sum(pow(abs(a-b), p) for a, b in zip(x1, x2))\n",
    "    return n_root(p_sum, p) \n",
    "  \n",
    "v1 = X_train_s[0]\n",
    "v2 = X_train_s[1]\n",
    "print(minkowski_dist(v1, v2, 2)) "
   ]
  },
  {
   "cell_type": "code",
   "execution_count": 101,
   "metadata": {},
   "outputs": [],
   "source": [
    "## Compute p-minkowski distance from point to every datapoint in collection\n",
    "## The list of labels should share length and indices with collection\n",
    "def compute_dists(point, collection, labels, p):\n",
    "    vals = []\n",
    "    for i in range(len(collection)):\n",
    "        d = minkowski_dist(point, collection[i], p)\n",
    "        vals.append([i, d, labels[i]])\n",
    "    \n",
    "    return vals"
   ]
  },
  {
   "cell_type": "markdown",
   "metadata": {},
   "source": [
    "#### Do KNN magic"
   ]
  },
  {
   "cell_type": "code",
   "execution_count": 102,
   "metadata": {
    "scrolled": true
   },
   "outputs": [
    {
     "data": {
      "image/png": "[encoded data removed]",
      "text/plain": [
       "<Figure size 432x288 with 1 Axes>"
      ]
     },
     "metadata": {},
     "output_type": "display_data"
    }
   ],
   "source": [
    "## Compute knn for example data\n",
    "show_img(X_test_s, 0)\n",
    "dists1 = compute_dists(X_test_s[0], X_train_s, y_train_s, 2)"
   ]
  },
  {
   "cell_type": "code",
   "execution_count": 103,
   "metadata": {},
   "outputs": [
    {
     "data": {
      "text/plain": [
       "[[1135, 5.3865168364513, 2],\n",
       " [2930, 6.176237779614883, 2],\n",
       " [1839, 6.359115856708896, 2],\n",
       " [2931, 6.971545396350763, 2],\n",
       " [1673, 7.1679066012479415, 2],\n",
       " [1745, 7.241429992960301, 2],\n",
       " [674, 7.360805206442928, 2],\n",
       " [1959, 7.46974314606631, 2],\n",
       " [2869, 7.472301795139638, 2],\n",
       " [1058, 7.590140106469208, 2],\n",
       " [394, 7.816389685297066, 2],\n",
       " [20, 7.866137843152389, 2],\n",
       " [535, 7.8670723020162905, 2],\n",
       " [1936, 7.948569785196725, 2],\n",
       " [1146, 7.982502009483685, 2],\n",
       " [402, 8.022200070046882, 2],\n",
       " [2694, 8.041375128432373, 2],\n",
       " [1943, 8.087366085202186, 2],\n",
       " [629, 8.16194129232512, 2],\n",
       " [2707, 8.167651236462792, 2]]"
      ]
     },
     "execution_count": 103,
     "metadata": {},
     "output_type": "execute_result"
    }
   ],
   "source": [
    "## Since the point we selected is in the training set, it shows up in the list with a distance of 0\n",
    "## In this case, we can confidently say it is a 3\n",
    "dists1_sorted = sorted(dists1, key = lambda x: float(x[1]))\n",
    "dists1_sorted[0:20]"
   ]
  },
  {
   "cell_type": "code",
   "execution_count": 104,
   "metadata": {},
   "outputs": [
    {
     "name": "stdout",
     "output_type": "stream",
     "text": [
      "[[1135, 5.3865168364513, 2], [2930, 6.176237779614883, 2], [1839, 6.359115856708896, 2], [2931, 6.971545396350763, 2], [1673, 7.1679066012479415, 2], [1745, 7.241429992960301, 2], [674, 7.360805206442928, 2], [1959, 7.46974314606631, 2], [2869, 7.472301795139638, 2], [1058, 7.590140106469208, 2], [394, 7.816389685297066, 2], [20, 7.866137843152389, 2], [535, 7.8670723020162905, 2], [1936, 7.948569785196725, 2], [1146, 7.982502009483685, 2], [402, 8.022200070046882, 2], [2694, 8.041375128432373, 2], [1943, 8.087366085202186, 2], [629, 8.16194129232512, 2], [2707, 8.167651236462792, 2]]\n",
      "2\n",
      "2\n",
      "2\n",
      "2\n",
      "2\n",
      "2\n",
      "2\n",
      "2\n",
      "2\n",
      "2\n",
      "2\n",
      "2\n",
      "2\n",
      "2\n",
      "2\n",
      "2\n",
      "2\n",
      "2\n",
      "2\n",
      "2\n",
      "predicted label is:2.0\n",
      "actual label is: 2\n",
      "[[666, 2.247698639363126, 1], [1556, 2.5222881905648644, 1], [2272, 2.9979924078470668, 1], [2205, 3.3107725559662793, 1], [207, 3.412974768508096, 1], [460, 3.58639618571662, 1], [1410, 3.604725848508672, 1], [292, 3.7451575808838355, 1], [2018, 4.11309178468212, 1], [1284, 4.1317201152923095, 1], [2376, 4.18657343837898, 1], [1412, 4.2582728131272685, 1], [619, 4.337134345734389, 1], [927, 4.357787445331074, 1], [861, 4.4211386252367335, 1], [232, 4.508970084892044, 1], [1842, 4.572168954708879, 1], [58, 4.638438268775499, 1], [1818, 4.756241978149315, 1], [2986, 4.769165991262066, 1]]\n",
      "1\n",
      "1\n",
      "1\n",
      "1\n",
      "1\n",
      "1\n",
      "1\n",
      "1\n",
      "1\n",
      "1\n",
      "1\n",
      "1\n",
      "1\n",
      "1\n",
      "1\n",
      "1\n",
      "1\n",
      "1\n",
      "1\n",
      "1\n",
      "predicted label is:1.0\n",
      "actual label is: 1\n",
      "[[706, 5.913981634854253, 3], [480, 6.581187874019491, 3], [1286, 6.800288344520949, 3], [1703, 6.871073937528168, 8], [1389, 6.99820705329475, 3], [2476, 7.037767069250759, 3], [451, 7.080177938886135, 8], [2259, 7.099817781720941, 8], [1080, 7.110279771666691, 0], [1017, 7.197239848574488, 0], [690, 7.234661750355772, 8], [1659, 7.281282191863933, 0], [2189, 7.311077689238803, 0], [918, 7.31308203025496, 3], [1952, 7.466583250481485, 0], [1438, 7.535849984344409, 3], [1125, 7.552148065784697, 0], [2268, 7.5550828718867535, 3], [291, 7.5594895563749, 5], [796, 7.579364526675045, 0]]\n",
      "3\n",
      "3\n",
      "3\n",
      "8\n",
      "3\n",
      "3\n",
      "8\n",
      "8\n",
      "0\n",
      "0\n",
      "8\n",
      "0\n",
      "0\n",
      "3\n",
      "0\n",
      "3\n",
      "0\n",
      "3\n",
      "5\n",
      "0\n",
      "predicted label is:3.05\n",
      "actual label is: 3\n"
     ]
    }
   ],
   "source": [
    " for i in range (3): # range(len(X_test_s)):\n",
    "    dists1 = compute_dists(X_test_s[i], X_train_s, y_train_s, 2)\n",
    "    dists1_sorted = sorted(dists1, key = lambda x: float(x[1]))\n",
    "    list = dists1_sorted[0:20] #get top 20 nearest neighbors \n",
    "      \n",
    "    ## here we get the label of closest neighbors\n",
    "    print (list)\n",
    "    labels = {}\n",
    "    current_sum_labels = 0;\n",
    "    for j in range(len(list)):\n",
    "        labels = (list[j][-1]) \n",
    "        print(labels)\n",
    "        current_sum_labels = current_sum_labels + labels\n",
    "    pred = 0 \n",
    "    pred = current_sum_labels/len(list)\n",
    "    print (\"predicted label is:\" + str(pred))\n",
    "    print (\"actual label is: \" + str(y_test_s[i]))\n",
    "\n",
    "    \n",
    "    \n",
    "    \n",
    "    \n",
    "    \n",
    "   \n",
    "    "
   ]
  },
  {
   "cell_type": "code",
   "execution_count": 113,
   "metadata": {},
   "outputs": [
    {
     "name": "stdout",
     "output_type": "stream",
     "text": [
      "Predicted class is: 2\n",
      "Actual class is: 2\n",
      "Total error is: 0.0\n",
      "Predicted class is: 1\n",
      "Actual class is: 1\n",
      "Total error is: 0.0\n",
      "Predicted class is: 3\n",
      "Actual class is: 3\n",
      "Total error is: 0.0\n",
      "Predicted class is: 9\n",
      "Actual class is: 9\n",
      "Total error is: 0.0\n",
      "Predicted class is: 1\n",
      "Actual class is: 1\n",
      "Total error is: 0.0\n",
      "Predicted class is: 4\n",
      "Actual class is: 4\n",
      "Total error is: 0.0\n",
      "Predicted class is: 2\n",
      "Actual class is: 2\n",
      "Total error is: 0.0\n",
      "Predicted class is: 6\n",
      "Actual class is: 6\n",
      "Total error is: 0.0\n",
      "Predicted class is: 3\n",
      "Actual class is: 3\n",
      "Total error is: 0.0\n",
      "Predicted class is: 7\n",
      "Actual class is: 7\n",
      "Total error is: 0.0\n",
      "Predicted class is: 4\n",
      "Actual class is: 4\n",
      "Total error is: 0.0\n",
      "Predicted class is: 9\n",
      "Actual class is: 9\n",
      "Total error is: 0.0\n",
      "Predicted class is: 0\n",
      "Actual class is: 0\n",
      "Total error is: 0.0\n",
      "Predicted class is: 6\n",
      "Actual class is: 6\n",
      "Total error is: 0.0\n",
      "Predicted class is: 7\n",
      "Actual class is: 7\n",
      "Total error is: 0.0\n",
      "Predicted class is: 6\n",
      "Actual class is: 6\n",
      "Total error is: 0.0\n",
      "Predicted class is: 7\n",
      "Actual class is: 7\n",
      "Total error is: 0.0\n",
      "Predicted class is: 9\n",
      "Actual class is: 9\n",
      "Total error is: 0.0\n",
      "Predicted class is: 9\n",
      "Actual class is: 9\n",
      "Total error is: 0.0\n",
      "Predicted class is: 0\n",
      "Actual class is: 2\n",
      "Total error is: 0.05\n"
     ]
    }
   ],
   "source": [
    "#for each x in test set, compute the distance with all x in training set, then sort in distance for top 20 nearest neighbors\n",
    "for i in range (20): # range(len(X_test_s)):\n",
    "    dists = compute_dists(X_test_s[i], X_train_s, y_train_s, 2)\n",
    "    dists_sorted = sorted(dists, key = lambda x: float(x[1]))\n",
    "    list = dists_sorted[0:20] #get list top 20 nearest neighbors with its [index,distance,label] \n",
    "     \n",
    "#count frequency of labels of the top 20 nearest neighbors\n",
    "    pred_class = {}\n",
    "    for j in range(20):\n",
    "        labels = list[j][-1]\n",
    "        if labels in pred_class:\n",
    "            pred_class[labels] += 1\n",
    "        else:\n",
    "            pred_class[labels] = 1\n",
    "#sort the most frequency labels at the beginning, return the prediction as the most frequency label at first position\n",
    "    sortedVotes = sorted(pred_class.items(), key=operator.itemgetter(1), reverse=True)\n",
    "    print(\"Predicted class is: \" + str(sortedVotes[0][0]))\n",
    "    print (\"Actual class is: \" + str(y_test_s[i]))\n",
    "    error = 0\n",
    "    if sortedVotes[0][0] != y_test_s[i]:\n",
    "        error = error + 1\n",
    "    print(\"Total error is: \" + str(error/20))\n",
    "\n",
    "    \n"
   ]
  },
  {
   "cell_type": "code",
   "execution_count": null,
   "metadata": {},
   "outputs": [],
   "source": []
  },
  {
   "cell_type": "code",
   "execution_count": null,
   "metadata": {},
   "outputs": [],
   "source": []
  }
 ],
 "metadata": {
  "kernelspec": {
   "display_name": "Python 3",
   "language": "python",
   "name": "python3"
  },
  "language_info": {
   "codemirror_mode": {
    "name": "ipython",
    "version": 3
   },
   "file_extension": ".py",
   "mimetype": "text/x-python",
   "name": "python",
   "nbconvert_exporter": "python",
   "pygments_lexer": "ipython3",
   "version": "3.6.5"
  }
 },
 "nbformat": 4,
 "nbformat_minor": 2
}
