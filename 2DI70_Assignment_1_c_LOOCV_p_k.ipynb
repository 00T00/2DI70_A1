{
 "cells": [
  {
   "cell_type": "markdown",
   "metadata": {},
   "source": [
    "# 2DI70 Statistical Learning Theory \n",
    "## Assignment 1\n",
    "\n",
    "### Group x\n",
    "Name1 ID1\n",
    "\n",
    "Name2 ID2\n",
    "\n",
    "Name3 ID3"
   ]
  },
  {
   "cell_type": "code",
   "execution_count": 1,
   "metadata": {},
   "outputs": [],
   "source": [
    "# Imports here\n",
    "import pandas as pd\n",
    "import matplotlib.pyplot as plt\n",
    "from math import *\n",
    "import numpy as np\n",
    "import operator\n"
   ]
  },
  {
   "cell_type": "markdown",
   "metadata": {},
   "source": [
    "#### Load MNIST data from csv files"
   ]
  },
  {
   "cell_type": "code",
   "execution_count": 2,
   "metadata": {},
   "outputs": [],
   "source": [
    "train_small = pd.read_csv(\"MNIST_train_small.csv\").values\n",
    "test_small  = pd.read_csv(\"MNIST_test_small.csv\").values"
   ]
  },
  {
   "cell_type": "code",
   "execution_count": 3,
   "metadata": {},
   "outputs": [],
   "source": [
    "## Normalizing the data is probably not necessary for this specific dataset\n",
    "X_train_s = train_small[:, 1:]/255.0\n",
    "y_train_s = train_small[:,0]\n",
    "\n",
    "X_test_s = test_small[:, 1:]/255.0\n",
    "y_test_s = test_small[:,0]"
   ]
  },
  {
   "cell_type": "markdown",
   "metadata": {},
   "source": [
    "#### Define functions"
   ]
  },
  {
   "cell_type": "code",
   "execution_count": 4,
   "metadata": {},
   "outputs": [],
   "source": [
    "## Render chosen data point as image\n",
    "def show_img(data, index):\n",
    "    plt.imshow(data[index].reshape(28,28), cmap = \"Greys\")\n",
    "    plt.show()"
   ]
  },
  {
   "cell_type": "code",
   "execution_count": 327,
   "metadata": {},
   "outputs": [
    {
     "name": "stdout",
     "output_type": "stream",
     "text": [
      "95.31764705882351\n"
     ]
    }
   ],
   "source": [
    "## Compute the nth root of given value\n",
    "def n_root(val, p):   \n",
    "    return val**(1 / float(p))\n",
    "  \n",
    "## Compute Minkowski distance for two given vectors\n",
    "## Use p = 2 for Euclidian distance\n",
    "def minkowski_dist(x1, x2, p):    \n",
    "    p_sum = sum(pow(abs(a-b), p) for a, b in zip(x1, x2))\n",
    "    return n_root(p_sum, p) \n",
    "  \n",
    "v1 = X_train_s[0]\n",
    "v2 = X_train_s[1]\n",
    "print(minkowski_dist(v1, v2, 1)) "
   ]
  },
  {
   "cell_type": "code",
   "execution_count": 6,
   "metadata": {},
   "outputs": [],
   "source": [
    "## Compute p-minkowski distance from point to every datapoint in collection\n",
    "## The list of labels should share length and indices with collection\n",
    "def compute_dists(point, collection, labels, p):\n",
    "    vals = []\n",
    "    for i in range(len(collection)):\n",
    "        d = minkowski_dist(point, collection[i], p)\n",
    "        vals.append([i, d, labels[i]])\n",
    "    \n",
    "    return vals"
   ]
  },
  {
   "cell_type": "code",
   "execution_count": 135,
   "metadata": {},
   "outputs": [],
   "source": [
    "## Compute all Minkowski distances from 1 to p from 2 points recursively\n",
    "## This is a slightly tainted recursion\n",
    "\n",
    "def rec_part_dists(x1, x2, p, results):\n",
    "    if(p==1):\n",
    "        difs = abs(x1-x2)\n",
    "        results.append(difs)\n",
    "        return difs\n",
    "    else:\n",
    "        inter = rec_part_dists(x1, x2, p-1, results)\n",
    "        results.append([a*b for a,b in zip(results[0],inter)])\n",
    "        return results[p-1]\n",
    "    \n",
    "def mink_dists(d):   \n",
    "    mkdists = []\n",
    "    for i in range(len(d)):\n",
    "        mkdists.append(n_root(sum(d[i]),i+1))\n",
    "    return mkdists\n",
    "\n",
    "## This returns the final distances\n",
    "def gen_dists(v1,v2,p):\n",
    "    partials = []\n",
    "    rec_part_dists(v1,v2,p,partials)\n",
    "    return mink_dists(partials)\n",
    "\n"
   ]
  },
  {
   "cell_type": "markdown",
   "metadata": {},
   "source": [
    "#### Do KNN magic"
   ]
  },
  {
   "cell_type": "code",
   "execution_count": 7,
   "metadata": {
    "scrolled": true
   },
   "outputs": [
    {
     "data": {
      "image/png": "[encoded data removed]",
      "text/plain": [
       "<Figure size 432x288 with 1 Axes>"
      ]
     },
     "metadata": {},
     "output_type": "display_data"
    }
   ],
   "source": [
    "## Compute knn for example data\n",
    "show_img(X_train_s, 0)\n",
    "dists1 = compute_dists(X_train_s[0], X_train_s, y_train_s, 2)"
   ]
  },
  {
   "cell_type": "code",
   "execution_count": 8,
   "metadata": {
    "scrolled": true
   },
   "outputs": [
    {
     "data": {
      "text/plain": [
       "[[0, 0.0, 3],\n",
       " [738, 5.260808796066775, 3],\n",
       " [163, 5.314273902674663, 3],\n",
       " [1273, 5.70711529028132, 3],\n",
       " [610, 5.733737010010271, 3],\n",
       " [1120, 5.750525442785872, 3],\n",
       " [2373, 5.8194902477416495, 3],\n",
       " [1504, 5.839323666682236, 3],\n",
       " [1790, 5.952746128195252, 3],\n",
       " [1597, 5.990987720867725, 3]]"
      ]
     },
     "execution_count": 8,
     "metadata": {},
     "output_type": "execute_result"
    }
   ],
   "source": [
    "## Since the point we selected is in the training set, it shows up in the list with a distance of 0\n",
    "## In this case, we can confidently say it is a 3\n",
    "dists1_sorted = sorted(dists1, key = lambda x: float(x[1]))\n",
    "dists1_sorted[0:10]"
   ]
  },
  {
   "cell_type": "code",
   "execution_count": 152,
   "metadata": {},
   "outputs": [],
   "source": [
    "n = len(X_train_s)\n",
    "m_dists = np.full((n, n, ), inf)"
   ]
  },
  {
   "cell_type": "code",
   "execution_count": 159,
   "metadata": {},
   "outputs": [],
   "source": [
    "k = 20\n",
    "p = 15\n",
    "n = len(X_train_s)\n",
    "m_dists = np.full((n, n, p), inf)"
   ]
  },
  {
   "cell_type": "code",
   "execution_count": 290,
   "metadata": {},
   "outputs": [
    {
     "name": "stdout",
     "output_type": "stream",
     "text": [
      "done with elements:  600\n",
      " took 0.15 min\n",
      "done with elements:  700\n",
      " took 14.17 min\n",
      "done with elements:  800\n",
      " took 13.46 min\n",
      "done with elements:  900\n",
      " took 12.77 min\n",
      "done with elements:  1000\n",
      " took 12.15 min\n",
      "done with elements:  1100\n",
      " took 11.66 min\n",
      "done with elements:  1200\n",
      " took 10.98 min\n",
      "done with elements:  1300\n",
      " took 10.35 min\n",
      "done with elements:  1400\n",
      " took 9.79 min\n",
      "done with elements:  1500\n",
      " took 9.35 min\n",
      "done with elements:  1600\n",
      " took 8.65 min\n",
      "done with elements:  1700\n",
      " took 8.08 min\n",
      "done with elements:  1800\n",
      " took 7.39 min\n",
      "done with elements:  1900\n",
      " took 6.87 min\n",
      "done with elements:  2000\n",
      " took 6.27 min\n",
      "done with elements:  2100\n",
      " took 5.59 min\n",
      "done with elements:  2200\n",
      " took 5.13 min\n",
      "done with elements:  2300\n",
      " took 4.51 min\n",
      "done with elements:  2400\n",
      " took 3.90 min\n",
      "done with elements:  2500\n",
      " took 3.29 min\n",
      "done with elements:  2600\n",
      " took 2.71 min\n",
      "done with elements:  2700\n",
      " took 2.13 min\n",
      "done with elements:  2800\n",
      " took 1.54 min\n",
      "done with elements:  2900\n",
      " took 0.95 min\n"
     ]
    }
   ],
   "source": [
    "##Grid based search to find k and p simultaneously using LOOCV\n",
    "##First, calculate all required minkowski distances\n",
    "##Can be interrupted and resumed (change 'start'), and saves to disk\n",
    "start = 0\n",
    "end = n\n",
    "timeold=time.time()\n",
    "for i in range(start,end):\n",
    "    #Only calculate for points with higher index to avoid calculating the same distance twice\n",
    "    for j in range(i,n):   \n",
    "        m_dists[i][j] = gen_dists(X_train_s[i], X_train_s[j],p)\n",
    "    if (i%100==0): \n",
    "        print(\"done with elements: \",i)  \n",
    "        timenew = time.time()\n",
    "        np.save('data.npy', m_dists,allow_pickle=True) # save\n",
    "        print(' took {:.2f} min'.format((timenew-timeold)/60))\n",
    "        timeold = timenew\n",
    "        "
   ]
  },
  {
   "cell_type": "code",
   "execution_count": 291,
   "metadata": {},
   "outputs": [],
   "source": [
    "np.save('data_dists_fin.npy', m_dists,allow_pickle=True) # save\n",
    "#new_num_arr = np.load('data.npy') # load"
   ]
  },
  {
   "cell_type": "code",
   "execution_count": 396,
   "metadata": {},
   "outputs": [],
   "source": [
    "#Get top 21 results (as the point itself is still incuded at this stage) for all points\n",
    "p_k_top20i = []\n",
    "p_k_top20  = []\n",
    "for j in range(15):\n",
    "    top20s=[]\n",
    "    top20si=[]\n",
    "    for i in range(n):    \n",
    "        #Since we wanted to avoid double calculations earlier, \n",
    "        #we now need to combine two arrays in order to reuse previous results\n",
    "        list1 = np.swapaxes(dists_p_indexed[j],0,1)[i][0:i]\n",
    "        list2=dists_p_indexed[j][i][i:n]\n",
    "        totallist=np.concatenate((list1,list2))\n",
    "        top20i=np.argsort(totallist)[0:21]\n",
    "        top20=totallist[top20i]\n",
    "        top20si.append(top20i)\n",
    "        top20s.append(top20)\n",
    "        #print(top20i)\n",
    "        #print(top20)\n",
    "    p_k_top20i.append(top20si)\n",
    "    p_k_top20.append(top20s)"
   ]
  },
  {
   "cell_type": "code",
   "execution_count": 525,
   "metadata": {},
   "outputs": [],
   "source": [
    "#Find average error for given k using 1/0-loss function\n",
    "def calcerror(k, data, y):\n",
    "    r=0\n",
    "    errors=0\n",
    "    for j in range(len(data)):\n",
    "        pop=0\n",
    "        labels = np.zeros(10)\n",
    "        #First results will always be the point itself\n",
    "        for l in range(1,k+1):\n",
    "            pop+=1\n",
    "            labels[y[data[j][l]]] += 1\n",
    "        prediction = np.argmax(labels)\n",
    "        if (y[j] != prediction):\n",
    "            errors +=1\n",
    "        r += 1 \n",
    "    #print(pop)\n",
    "    print(errors)    \n",
    "    return errors/r"
   ]
  },
  {
   "cell_type": "code",
   "execution_count": 526,
   "metadata": {},
   "outputs": [
    {
     "name": "stdout",
     "output_type": "stream",
     "text": [
      "359\n"
     ]
    },
    {
     "data": {
      "text/plain": [
       "0.11970656885628543"
      ]
     },
     "execution_count": 526,
     "metadata": {},
     "output_type": "execute_result"
    }
   ],
   "source": [
    "calcerror(20,p_k_top20i[0],y_train_s)"
   ]
  },
  {
   "cell_type": "code",
   "execution_count": 481,
   "metadata": {},
   "outputs": [],
   "source": [
    "#Find the average error over all points for all combinations of p and k\n",
    "p_k_scores = np.zeros((15,20))\n",
    "for o in range(15):\n",
    "    for q in range(1,21):\n",
    "        p_k_scores[o][q-1] = calcerror(q, p_k_top20i[o], y_train_s)"
   ]
  },
  {
   "cell_type": "code",
   "execution_count": 523,
   "metadata": {},
   "outputs": [
    {
     "data": {
      "text/plain": [
       "array([[0.08969657, 0.10036679, 0.0936979 , 0.09169723, 0.09636546,\n",
       "        0.09636546, 0.09836612, 0.0966989 , 0.0996999 , 0.10303434,\n",
       "        0.10236746, 0.10336779, 0.10470157, 0.10636879, 0.11037012,\n",
       "        0.11103701, 0.11437146, 0.11570524, 0.11837279, 0.11970657],\n",
       "       [0.08069356, 0.08869623, 0.0786929 , 0.07902634, 0.08002668,\n",
       "        0.08302768, 0.08336112, 0.08936312, 0.0876959 , 0.09003001,\n",
       "        0.09203068, 0.09436479, 0.09503168, 0.09436479, 0.09603201,\n",
       "        0.09836612, 0.09736579, 0.10036679, 0.09903301, 0.10103368],\n",
       "       [0.07535845, 0.08236079, 0.07102367, 0.07402467, 0.07535845,\n",
       "        0.08002668, 0.07969323, 0.0816939 , 0.08436145, 0.08369456,\n",
       "        0.08669557, 0.08969657, 0.08902968, 0.0876959 , 0.09236412,\n",
       "        0.09236412, 0.09536512, 0.09469823, 0.09436479, 0.09836612],\n",
       "       [0.07335779, 0.07602534, 0.0696899 , 0.07202401, 0.07169056,\n",
       "        0.07735912, 0.07702568, 0.07902634, 0.07969323, 0.0786929 ,\n",
       "        0.07935979, 0.08369456, 0.08369456, 0.08569523, 0.08869623,\n",
       "        0.08936312, 0.0906969 , 0.09236412, 0.09203068, 0.0936979 ],\n",
       "       [0.07302434, 0.07502501, 0.06535512, 0.07135712, 0.06835612,\n",
       "        0.07435812, 0.07469156, 0.07769256, 0.07935979, 0.07735912,\n",
       "        0.07935979, 0.07902634, 0.08069356, 0.08269423, 0.08336112,\n",
       "        0.08402801, 0.09036345, 0.08969657, 0.08736245, 0.09269757],\n",
       "       [0.07135712, 0.07402467, 0.06468823, 0.06602201, 0.06868956,\n",
       "        0.07235745, 0.07435812, 0.0756919 , 0.07802601, 0.0756919 ,\n",
       "        0.07635879, 0.07669223, 0.08069356, 0.08136045, 0.08436145,\n",
       "        0.08302768, 0.08536179, 0.08602868, 0.08602868, 0.0876959 ],\n",
       "       [0.07102367, 0.07502501, 0.06302101, 0.06535512, 0.06902301,\n",
       "        0.0726909 , 0.07235745, 0.07535845, 0.07769256, 0.07469156,\n",
       "        0.07769256, 0.07535845, 0.08002668, 0.08102701, 0.08236079,\n",
       "        0.08269423, 0.08502834, 0.08302768, 0.08436145, 0.08736245],\n",
       "       [0.06935645, 0.0756919 , 0.06268756, 0.06535512, 0.06802267,\n",
       "        0.07235745, 0.07235745, 0.0756919 , 0.0756919 , 0.07235745,\n",
       "        0.07635879, 0.07502501, 0.07969323, 0.08002668, 0.08102701,\n",
       "        0.08236079, 0.08369456, 0.08302768, 0.08569523, 0.08836279],\n",
       "       [0.06935645, 0.07635879, 0.06335445, 0.06335445, 0.06768923,\n",
       "        0.07202401, 0.07302434, 0.07435812, 0.07402467, 0.07235745,\n",
       "        0.07835945, 0.07535845, 0.07902634, 0.07902634, 0.07969323,\n",
       "        0.08402801, 0.08402801, 0.08336112, 0.08602868, 0.08669557],\n",
       "       [0.07035679, 0.07635879, 0.06502167, 0.06302101, 0.06702234,\n",
       "        0.06935645, 0.07235745, 0.07235745, 0.07335779, 0.07235745,\n",
       "        0.0786929 , 0.07469156, 0.07802601, 0.07802601, 0.08136045,\n",
       "        0.08269423, 0.08269423, 0.08302768, 0.08636212, 0.08669557],\n",
       "       [0.07169056, 0.07769256, 0.06535512, 0.06168723, 0.06768923,\n",
       "        0.06868956, 0.07202401, 0.07302434, 0.07402467, 0.07202401,\n",
       "        0.07669223, 0.07369123, 0.07835945, 0.07802601, 0.08269423,\n",
       "        0.08202734, 0.08336112, 0.08436145, 0.08502834, 0.08702901],\n",
       "       [0.07069023, 0.07735912, 0.06635545, 0.06302101, 0.06702234,\n",
       "        0.07035679, 0.07302434, 0.07235745, 0.0726909 , 0.07169056,\n",
       "        0.07535845, 0.07335779, 0.07802601, 0.07669223, 0.08202734,\n",
       "        0.08036012, 0.08369456, 0.08336112, 0.08569523, 0.08736245],\n",
       "       [0.07035679, 0.07702568, 0.06802267, 0.06302101, 0.06735579,\n",
       "        0.0696899 , 0.0726909 , 0.07135712, 0.0726909 , 0.07202401,\n",
       "        0.0756919 , 0.07302434, 0.07735912, 0.0756919 , 0.07969323,\n",
       "        0.08002668, 0.08269423, 0.08336112, 0.08436145, 0.08736245],\n",
       "       [0.07069023, 0.07802601, 0.06868956, 0.0636879 , 0.06768923,\n",
       "        0.06935645, 0.07169056, 0.07135712, 0.07102367, 0.07335779,\n",
       "        0.07402467, 0.07069023, 0.07635879, 0.0756919 , 0.07935979,\n",
       "        0.08036012, 0.08269423, 0.08369456, 0.08502834, 0.08669557],\n",
       "       [0.07035679, 0.0786929 , 0.06902301, 0.0636879 , 0.06768923,\n",
       "        0.06935645, 0.07202401, 0.07002334, 0.07102367, 0.07302434,\n",
       "        0.07435812, 0.07135712, 0.07602534, 0.07602534, 0.07969323,\n",
       "        0.08069356, 0.08402801, 0.08402801, 0.08636212, 0.08636212]])"
      ]
     },
     "execution_count": 523,
     "metadata": {},
     "output_type": "execute_result"
    }
   ],
   "source": [
    "#Results\n",
    "p_k_scores"
   ]
  },
  {
   "cell_type": "code",
   "execution_count": 512,
   "metadata": {},
   "outputs": [],
   "source": [
    "np.save('datatop20kpn.npy', p_k_scores) # save"
   ]
  },
  {
   "cell_type": "code",
   "execution_count": 275,
   "metadata": {},
   "outputs": [
    {
     "name": "stdout",
     "output_type": "stream",
     "text": [
      " function took 12.003 ms\n",
      " function took 6.997 ms\n"
     ]
    }
   ],
   "source": [
    "#Benchmark minkowski distance calcualtions\n",
    "import time\n",
    "reass = []\n",
    "time1 = time.time()\n",
    "for i in range(15):\n",
    "    a=minkowski_dist(X_train_s[99],X_train_s[100],i+1)\n",
    "time2 = time.time()\n",
    "\n",
    "\n",
    "\n",
    "time3 = time.time()\n",
    "\n",
    "a= gen_dists(X_train_s[99],X_train_s[100],15)\n",
    "\n",
    "time4 = time.time()\n",
    "print(' function took {:.3f} ms'.format((time2-time1)*1000.0))\n",
    "\n",
    "print(' function took {:.3f} ms'.format((time4-time3)*1000.0))"
   ]
  }
 ],
 "metadata": {
  "kernelspec": {
   "display_name": "Python 3",
   "language": "python",
   "name": "python3"
  },
  "language_info": {
   "codemirror_mode": {
    "name": "ipython",
    "version": 3
   },
   "file_extension": ".py",
   "mimetype": "text/x-python",
   "name": "python",
   "nbconvert_exporter": "python",
   "pygments_lexer": "ipython3",
   "version": "3.5.5"
  }
 },
 "nbformat": 4,
 "nbformat_minor": 2
}
